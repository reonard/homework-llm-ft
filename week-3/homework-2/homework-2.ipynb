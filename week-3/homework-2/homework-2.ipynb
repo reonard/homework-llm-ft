{
 "cells": [
  {
   "cell_type": "code",
   "execution_count": 1,
   "metadata": {},
   "outputs": [
    {
     "name": "stderr",
     "output_type": "stream",
     "text": [
      "/app/anaconda3/envs/llm-ft/lib/python3.11/site-packages/tqdm/auto.py:21: TqdmWarning: IProgress not found. Please update jupyter and ipywidgets. See https://ipywidgets.readthedocs.io/en/stable/user_install.html\n",
      "  from .autonotebook import tqdm as notebook_tqdm\n"
     ]
    }
   ],
   "source": [
    "from datasets import load_dataset"
   ]
  },
  {
   "cell_type": "code",
   "execution_count": 2,
   "metadata": {},
   "outputs": [
    {
     "data": {
      "text/plain": [
       "DatasetDict({\n",
       "    train: Dataset({\n",
       "        features: ['label', 'text'],\n",
       "        num_rows: 650000\n",
       "    })\n",
       "    test: Dataset({\n",
       "        features: ['label', 'text'],\n",
       "        num_rows: 50000\n",
       "    })\n",
       "})"
      ]
     },
     "execution_count": 2,
     "metadata": {},
     "output_type": "execute_result"
    }
   ],
   "source": [
    "dataset = load_dataset(\"yelp_review_full\")\n",
    "dataset"
   ]
  },
  {
   "cell_type": "code",
   "execution_count": 3,
   "metadata": {},
   "outputs": [],
   "source": [
    "import random\n",
    "import pandas as pd\n",
    "import datasets\n",
    "from IPython.display import display, HTML"
   ]
  },
  {
   "cell_type": "code",
   "execution_count": 4,
   "metadata": {},
   "outputs": [],
   "source": [
    "def show_random_elements(dataset, num_examples=10):\n",
    "    assert num_examples <= len(dataset), \"Can't pick more elements than there are in the dataset.\"\n",
    "    picks = []\n",
    "    for _ in range(num_examples):\n",
    "        pick = random.randint(0, len(dataset)-1)\n",
    "        while pick in picks:\n",
    "            pick = random.randint(0, len(dataset)-1)\n",
    "        picks.append(pick)\n",
    "    \n",
    "    df = pd.DataFrame(dataset[picks])\n",
    "    for column, typ in dataset.features.items():\n",
    "        if isinstance(typ, datasets.ClassLabel):\n",
    "            df[column] = df[column].transform(lambda i: typ.names[i])\n",
    "    display(HTML(df.to_html()))"
   ]
  },
  {
   "cell_type": "code",
   "execution_count": 5,
   "metadata": {},
   "outputs": [
    {
     "data": {
      "text/html": [
       "<table border=\"1\" class=\"dataframe\">\n",
       "  <thead>\n",
       "    <tr style=\"text-align: right;\">\n",
       "      <th></th>\n",
       "      <th>label</th>\n",
       "      <th>text</th>\n",
       "    </tr>\n",
       "  </thead>\n",
       "  <tbody>\n",
       "    <tr>\n",
       "      <th>0</th>\n",
       "      <td>2 star</td>\n",
       "      <td>Their pizza is great! ...when it's not late, cold, and wrong.\\n\\nOur order took two hours to get to us, with no explanation or apology. We discovered our pizza was thin crust - not what I ordered - and stone cold. I am just glad I ordered through GrubHub, who gave me a $10 coupon to make up for it.\\n\\nNot worth it! Until I see better reviews, I'll order elsewhere.</td>\n",
       "    </tr>\n",
       "    <tr>\n",
       "      <th>1</th>\n",
       "      <td>2 star</td>\n",
       "      <td>Four of us were there for dinner Jan. 7. The service started out well with suggestions for wine pairings. Carnevino's approach to serving smaller portions of pasta and other parts of their menu well explained. The beef tartare appetizers came (premixed) and were good. Things started to go off with the main course. The used cutlery was taken away but only forks brought. The food came and by the time we realized no other cutlery was coming we had to flag a waitperson from another table minutes (and cold food) later. We mentioned the issue but no comment was made by our waiter when he came to the table again eventually to ask if everything was all right. The entrees were delicious. The roasted beets amazing. Since the experience of the main course was disappointing, we chose to linger over dessert somewhere else. When we asked the waiter for the check instead of ordering dessert (something we told him we planned to do at the beginning of the meal) he seemed relieved we were leaving.</td>\n",
       "    </tr>\n",
       "    <tr>\n",
       "      <th>2</th>\n",
       "      <td>1 star</td>\n",
       "      <td>This place use to be reasonable for good authentic mexican food. My past 4 visits have been disappointing! The company seems to be getting greedier each time. The positions of rice have become very small and the food quality is bland. If you ask for a preparada the beer is $5.00 and u pay another $5.00 for the tomato juice, which is just ridiculous. I also asked for a small side of a spicier salsa, they said it would be $3.00! Seriously! Never coming back!</td>\n",
       "    </tr>\n",
       "    <tr>\n",
       "      <th>3</th>\n",
       "      <td>1 star</td>\n",
       "      <td>this place is so horrible and I can't believe the rice they sold is mixed with really bad one. And they would never return it and exchange it!!!!</td>\n",
       "    </tr>\n",
       "    <tr>\n",
       "      <th>4</th>\n",
       "      <td>2 star</td>\n",
       "      <td>OI. I reallllly wanted to like this place. \\n\\nAfter my last review, one of the owners reached out and emailed me, apologized and asked me to give them another shot. Love how much they care about their customers. \\nThe remodel they have done is AMAZING! I loved the enclosed patio area, so cool, literally, I thought the temp would be horrible back there but it was so nice. \\n\\nFirst off, the hostess. Sweetest girl ever! She told us it looked like a 20-25 minutes wait and that we could find a spot on the patio and enjoy a drink while we waited for our table. We lucked out and found a spot, this place was SLAMMING for a Tuesday! A nice waitress in a skirt that ALMOST showed some butt cheek came over and took our order. We were hungry so we ordered some guacamole to tide us over for our \\\"twenty five minute wait\\\". 30 minutes go by and we think that the waitress has totally forgotten about our order. I go up to the hostess to see how much longer we have to go \\\"you are next\\\" she says, Rad! 5 minutes later out comes our gauc, finally. The gauc was decent, we all loved the chips, they were like crack. Another TWENTY minutes goes by, so now we have waited double over what our estimated time of wait was. I really wish she would have been honest with us and just said its going to be a 45 Min- Hour wait. It was CLEAR when she gave us the 20-25 minute wait she was either fudging to keep us there, or had no clue on how to quote a wait for a table. But seriously, sweetest girl ever. \\n\\nFINALLY we get shown to our table. We are EXCITED. We have been dying to try this place out. Like I mentioned in my first review, the MIL lives in the neighborhood behind the Vig, so we are fans of places we can walk to! The waitress actually cracked a joke about how we probably all know what we wanted to eat since we had waited so long. \\n\\nThe food came out relatively fast....the fries were all warm, but all the sandwiches were luke warm at best. Im pretty sure mine and the hubs were meant to be hot. Our cheese was melty but everything else was room temp/luke warm. \\n\\nLets start with mine first, the honey ham &amp; provolone. I took one bite and was astonished by its lack of flavor. It should have been bursting with flavor, it had ham, provolone cheese, grilled pineapple, dijon mayo and a pablono chile! It was flavorless. The only thing that had flavor was the chile that brought mad heat. I tried a few bites with out the chile to get the flavor of the sandwich, zero. I cut off a piece for the hubs and MIL to try to see if it wasn't just me. Nothing. It was a luke warm pile of meat and cheese that tasted like nothing. At least I had some sweet potato fries to munch. \\n\\nNext up the hubs, He got the uptown steak sandwich, Asked for it medium. It had sliced bistro tenderloin with wild mushrooms, caramelized onions, arugula, roasted red peppers, Swiss cheese and horseradish mayo on a sub roll. First off, they cut the sandwich in half for you which is awesome, but had the chef been paying attention he would have seen the middle ends of the sandwich were verging on RAW (like red)!! So gross. The hubs picked all the raw looking pieces out, took a bite, NO FLAVOR! A sandwich that has roasted red peppers and caramelized onions and horsey mayo should for sure have flavor!?! This was not the case, he cut a piece off for each of us to try. We all looked at each other in disbelief, how could there be no flavor. Really people, this is not an over exaggerated story, I wish it were. He also got onion rings. Now in my family, onion rings get devoured, in fact fights usually occur as to who gets the last ring. We each take an onion ring, now have you ever eaten those fried batter pieces at the bottom of the Long John Silvers fish baskets? Those little clumps of fried batter that have zero taste? Well, that was what these onion rings tasted like, a bunch of fried nothing. \\n\\nLastly the MIL's Turkey sandwich. It had turkey breast with dill havarti, cranberry chutney, roasted tomatoes, cole slaw and honey-mustard mayo on pretzel bread. We all swooned at the pretzel bun! This one wasn't as tasteless as mine and the husbands sandwiches. It was ok. She also ordered the regular french fries. Those were good. \\n\\nI know this review is getting long and winded, but I want to give an honest full run down of why I gave only 2 stars. \\n\\nOur waitress only came back once to check on us and was never to be seen until the check came. A different waiter came by and asked if we wanted boxes as each of our plates looked completely untouched. We all said no (in unison). \\n\\nIt for sure has a nice happy hour atmosphere and prices. That has got to be a reason why this place was packed both times we have gone (530-6ish). I've never been to the 1st location to compare the two food and service wise. It has tons of potential, and it looks like plenty of people love The Vig, maybe we went on an off night? I'm sorry Vig, you are just not for me.</td>\n",
       "    </tr>\n",
       "    <tr>\n",
       "      <th>5</th>\n",
       "      <td>2 star</td>\n",
       "      <td>I'll start off with what was great, the people and the service.  Very friendly staff and fast service.\\n\\nI found nothing in the meal to rave about.  The chicken, while a good value is bland and the coating was not crispy.  Fries, freshly cooked were still limp.  The toast, just don't ask.  The cole slaw was not to my taste but maybe you like vinegar more than I do.\\n\\nI have not tried Cane's but I can't see going back to Guthries again.  The food was not flavorful and the chicken and the fries which should have some crispiness didn't.</td>\n",
       "    </tr>\n",
       "    <tr>\n",
       "      <th>6</th>\n",
       "      <td>3 stars</td>\n",
       "      <td>I love my Diamondbacks.  With that said, I'm a little cold towards Chase Field.  The sight-lines are wonderful, the seats are comfortable, but you really do feel like you're watching baseball in a giant airplane hangar when the roof is closed.  Also, you've got the famous Arizona baseball crowd to contend with, complete with polo shirts, cell phones, late arrivals, and early exits.  At least the food is mostly awesome!</td>\n",
       "    </tr>\n",
       "    <tr>\n",
       "      <th>7</th>\n",
       "      <td>2 star</td>\n",
       "      <td>I appreciate the attention to detail that Osso put into the decorations at the restaurant. It's absolutely beautiful inside. \\n\\nHowever, the food and service here just didn't do it for me. \\n\\nMy friend was visiting from out of town and we stopped here for dinner and drinks. We arrived pretty early and there were plenty of open tables but apparently you need a reservation to get a table...no problem so we just sat at the bar. \\n\\nThe drink menu is not extensive but they have a full bar and a decent selection of martinis. I ordered the Bikini Martini. It was good, not great. It's a mix of pineapple, coconut and grenadine...sounds super yummy. But it was not...(that's just my opinion) I finished it but I would not order it again. \\n\\nFor the meal, I went with the chicken, spinach and mascarpone ravioli. I ordered the small portion thinking it would be more than enough but I was mistaken. The plate came out with three pieces of ravioli in the parmesan cream sauce sauce. I didn't enjoy it. And I was really underwhelmed with the presentation and after a few bites it was back to Yelp to search for another spot to eat because I was still really hungry. \\n\\nAlso the service was lacking. It wasn't that busy but after we ordered there were a few other guest that came in and ordered and got their food before we did...what's up with that?!? \\n\\nAs we were wrapping up we felt rushed along...apparently there was an event there later that evening that they were setting up for...So it just seemed like we were in the way. Ugh. \\n\\nAll in all, for the price and location I expected better. I'm not sure I'd go back.</td>\n",
       "    </tr>\n",
       "    <tr>\n",
       "      <th>8</th>\n",
       "      <td>5 stars</td>\n",
       "      <td>I have a pair of vintage Ray Ban sunglasses that were much too loose and would fall off. My wife suggested taking them to Acuity Eye Center since she had gotten eyeglasses there and was happy with their service. \\n\\nUpon entering Acuity, I was greeted with a pleasant smile and a happy \\\"can I help you?\\\" by one of the ladies behind the counter. I explained that my sunglasses were too loose and asked if they could fix them. She assured me she could and asked me to have a seat. Less than five minutes later, she returned with my Ray Bans and they now fit perfectly! I asked what I owed and was told, \\\"No Charge!\\\"  Keep in mind, they did not know who I was or that my wife is a customer!</td>\n",
       "    </tr>\n",
       "    <tr>\n",
       "      <th>9</th>\n",
       "      <td>1 star</td>\n",
       "      <td>I am amazed at the reviews for this place. I mean, are there shills just posting reviews? Are they giving out free food in exchange for a positive rating? Even if that were the case...I'd pass.\\n\\nSeveral people in the office were chastising me for never choosing a location for lunch. Rather than simply accepting the abuse whilst producing, what may be, the most complicated spreadsheet in the history of spreadsheets, I relented and looked for a good place for a Gyro. Yelp, you rarely lead me astray...I searched for a nearby restaurant and Flame Kabob was our elected establishment to try.\\n\\nMy co-workers ordered the beef/lamb wrap and I got a Veggie Kabob cause I'm healthy like that. Holy Torched Onion On A Stick!! A few pepper slices, 2, yes, only 2 zucchini slices, and the rest was all over-seasoned onion. Pita, nasty sauce, and tri colored long grain rice.  For like $9? Are you kidding me?\\n\\nHaving been jilted from my noon time hunger, I gently peeked around the corner at my co-workers who instantly shot me glares that would make the paper shredder unnecessary. I then got a review that consisted of \\\"Yucky\\\" \\\"over-seasoned\\\" \\\"salty\\\" and \\\"gross. That is with the expletives omitted in case children are reading this.\\n\\nOn the bright side, I'm not going to be asked for suggestions anytime soon.</td>\n",
       "    </tr>\n",
       "  </tbody>\n",
       "</table>"
      ],
      "text/plain": [
       "<IPython.core.display.HTML object>"
      ]
     },
     "metadata": {},
     "output_type": "display_data"
    }
   ],
   "source": [
    "show_random_elements(dataset[\"train\"])\n"
   ]
  },
  {
   "cell_type": "code",
   "execution_count": 6,
   "metadata": {},
   "outputs": [
    {
     "data": {
      "text/html": [
       "<table border=\"1\" class=\"dataframe\">\n",
       "  <thead>\n",
       "    <tr style=\"text-align: right;\">\n",
       "      <th></th>\n",
       "      <th>label</th>\n",
       "      <th>text</th>\n",
       "      <th>input_ids</th>\n",
       "      <th>token_type_ids</th>\n",
       "      <th>attention_mask</th>\n",
       "    </tr>\n",
       "  </thead>\n",
       "  <tbody>\n",
       "    <tr>\n",
       "      <th>0</th>\n",
       "      <td>4 stars</td>\n",
       "      <td>I really love this place! A casual and comfortable atmosphere with awesome food and good priced wines! I love 5th and Wine for Happy Hour during the week with girlfriends-try and sit in their \\\"living room\\\" setting and grab a few appetizers and a $5 glass of wine- I really love their Riesling.  The French Fries and Bruschette's are a great way to mix sweet (Brie and Apple Bruschetta) and salty (garlic and parmesan fries). \\n\\nWant to get crazy? Try the Julia Child's  Beef Bourguignon, a Saturday night Specialty that is Hearty and absolutely delicious!</td>\n",
       "      <td>[101, 146, 1541, 1567, 1142, 1282, 106, 138, 10243, 1105, 6062, 6814, 1114, 14918, 2094, 1105, 1363, 23812, 16728, 106, 146, 1567, 4025, 1105, 15054, 1111, 8325, 12197, 1219, 1103, 1989, 1114, 6124, 1116, 118, 2222, 1105, 3465, 1107, 1147, 165, 107, 1690, 1395, 165, 107, 3545, 1105, 6387, 170, 1374, 12647, 26883, 26542, 1105, 170, 109, 126, 2525, 1104, 4077, 118, 146, 1541, 1567, 1147, 155, 1905, 1979, 119, 1109, 1497, 13359, 1905, 1105, 139, 6208, 17374, 1566, 112, 188, 1132, 170, 1632, 1236, 1106, 5495, 4105, 113, 139, 5997, 1105, 7302, 139, 6208, 17374, 1777, 114, 1105, 6870, ...]</td>\n",
       "      <td>[0, 0, 0, 0, 0, 0, 0, 0, 0, 0, 0, 0, 0, 0, 0, 0, 0, 0, 0, 0, 0, 0, 0, 0, 0, 0, 0, 0, 0, 0, 0, 0, 0, 0, 0, 0, 0, 0, 0, 0, 0, 0, 0, 0, 0, 0, 0, 0, 0, 0, 0, 0, 0, 0, 0, 0, 0, 0, 0, 0, 0, 0, 0, 0, 0, 0, 0, 0, 0, 0, 0, 0, 0, 0, 0, 0, 0, 0, 0, 0, 0, 0, 0, 0, 0, 0, 0, 0, 0, 0, 0, 0, 0, 0, 0, 0, 0, 0, 0, 0, ...]</td>\n",
       "      <td>[1, 1, 1, 1, 1, 1, 1, 1, 1, 1, 1, 1, 1, 1, 1, 1, 1, 1, 1, 1, 1, 1, 1, 1, 1, 1, 1, 1, 1, 1, 1, 1, 1, 1, 1, 1, 1, 1, 1, 1, 1, 1, 1, 1, 1, 1, 1, 1, 1, 1, 1, 1, 1, 1, 1, 1, 1, 1, 1, 1, 1, 1, 1, 1, 1, 1, 1, 1, 1, 1, 1, 1, 1, 1, 1, 1, 1, 1, 1, 1, 1, 1, 1, 1, 1, 1, 1, 1, 1, 1, 1, 1, 1, 1, 1, 1, 1, 1, 1, 1, ...]</td>\n",
       "    </tr>\n",
       "  </tbody>\n",
       "</table>"
      ],
      "text/plain": [
       "<IPython.core.display.HTML object>"
      ]
     },
     "metadata": {},
     "output_type": "display_data"
    }
   ],
   "source": [
    "from transformers import AutoTokenizer\n",
    "tokenizer = AutoTokenizer.from_pretrained(\"bert-base-cased\")\n",
    "\n",
    "def tokenize_function(examples):\n",
    "    return tokenizer(examples[\"text\"], padding=\"max_length\", truncation=True)\n",
    "\n",
    "tokenized_datasets = dataset.map(tokenize_function, batched=True)\n",
    "show_random_elements(tokenized_datasets[\"train\"], num_examples=1)\n"
   ]
  },
  {
   "cell_type": "code",
   "execution_count": 7,
   "metadata": {},
   "outputs": [
    {
     "name": "stderr",
     "output_type": "stream",
     "text": [
      "/app/anaconda3/envs/llm-ft/lib/python3.11/site-packages/transformers/utils/generic.py:260: UserWarning: torch.utils._pytree._register_pytree_node is deprecated. Please use torch.utils._pytree.register_pytree_node instead.\n",
      "  torch.utils._pytree._register_pytree_node(\n",
      "/app/anaconda3/envs/llm-ft/lib/python3.11/site-packages/transformers/utils/generic.py:260: UserWarning: torch.utils._pytree._register_pytree_node is deprecated. Please use torch.utils._pytree.register_pytree_node instead.\n",
      "  torch.utils._pytree._register_pytree_node(\n",
      "Some weights of BertForSequenceClassification were not initialized from the model checkpoint at bert-base-cased and are newly initialized: ['classifier.bias', 'classifier.weight']\n",
      "You should probably TRAIN this model on a down-stream task to be able to use it for predictions and inference.\n"
     ]
    }
   ],
   "source": [
    "from transformers import AutoModelForSequenceClassification\n",
    "model = AutoModelForSequenceClassification.from_pretrained(\"bert-base-cased\", num_labels=5)"
   ]
  },
  {
   "cell_type": "code",
   "execution_count": 8,
   "metadata": {},
   "outputs": [],
   "source": [
    "from transformers import TrainingArguments\n",
    "model_dir = \"model/bert-base-cased-finetuned-yelp\"\n",
    "training_args = TrainingArguments(\n",
    "    output_dir=model_dir,\n",
    "    per_device_train_batch_size=16,\n",
    "    num_train_epochs=5,\n",
    "    logging_steps=100,\n",
    ")"
   ]
  },
  {
   "cell_type": "code",
   "execution_count": 9,
   "metadata": {},
   "outputs": [],
   "source": [
    "import numpy as np\n",
    "import evaluate\n",
    "\n",
    "metric = evaluate.load(\"accuracy\")"
   ]
  },
  {
   "cell_type": "code",
   "execution_count": 10,
   "metadata": {},
   "outputs": [],
   "source": [
    "def compute_metrics(eval_pred):\n",
    "    logits, labels = eval_pred\n",
    "    predictions = np.argmax(logits, axis=-1)\n",
    "    return metric.compute(predictions=predictions, references=labels)"
   ]
  },
  {
   "cell_type": "code",
   "execution_count": 11,
   "metadata": {},
   "outputs": [],
   "source": [
    "training_args = TrainingArguments(output_dir=model_dir,\n",
    "                                  evaluation_strategy=\"epoch\", \n",
    "                                  per_device_train_batch_size=8,\n",
    "                                  num_train_epochs=3,\n",
    "                                  logging_steps=30)"
   ]
  },
  {
   "cell_type": "code",
   "execution_count": 22,
   "metadata": {},
   "outputs": [],
   "source": [
    "# 小数据集\n",
    "small_train_dataset = tokenized_datasets[\"train\"].shuffle(seed=42).select(range(500))\n",
    "small_eval_dataset = tokenized_datasets[\"test\"].shuffle(seed=42).select(range(500))\n",
    "\n",
    "# 全量数据集 (太大，取10000个作比较)\n",
    "full_train_dataset = tokenized_datasets[\"train\"].shuffle(seed=42).select(range(10000))\n",
    "full_eval_dataset = tokenized_datasets[\"test\"].shuffle(seed=42).select(range(10000))\n",
    "\n",
    "# 测试集\n",
    "test_dataset = tokenized_datasets[\"test\"].shuffle(seed=64).select(range(500))\n"
   ]
  },
  {
   "cell_type": "code",
   "execution_count": 19,
   "metadata": {},
   "outputs": [],
   "source": [
    "from transformers import Trainer\n",
    "\n",
    "small_trainer = Trainer(\n",
    "    model=model,\n",
    "    args=training_args,\n",
    "    train_dataset=small_train_dataset,\n",
    "    eval_dataset=small_eval_dataset,\n",
    "    compute_metrics=compute_metrics,\n",
    ")"
   ]
  },
  {
   "cell_type": "code",
   "execution_count": 20,
   "metadata": {},
   "outputs": [
    {
     "data": {
      "text/html": [
       "\n",
       "    <div>\n",
       "      \n",
       "      <progress value='189' max='189' style='width:300px; height:20px; vertical-align: middle;'></progress>\n",
       "      [189/189 01:22, Epoch 3/3]\n",
       "    </div>\n",
       "    <table border=\"1\" class=\"dataframe\">\n",
       "  <thead>\n",
       " <tr style=\"text-align: left;\">\n",
       "      <th>Epoch</th>\n",
       "      <th>Training Loss</th>\n",
       "      <th>Validation Loss</th>\n",
       "      <th>Accuracy</th>\n",
       "    </tr>\n",
       "  </thead>\n",
       "  <tbody>\n",
       "    <tr>\n",
       "      <td>1</td>\n",
       "      <td>0.718800</td>\n",
       "      <td>1.233896</td>\n",
       "      <td>0.534000</td>\n",
       "    </tr>\n",
       "    <tr>\n",
       "      <td>2</td>\n",
       "      <td>0.471400</td>\n",
       "      <td>1.404048</td>\n",
       "      <td>0.558000</td>\n",
       "    </tr>\n",
       "    <tr>\n",
       "      <td>3</td>\n",
       "      <td>0.268500</td>\n",
       "      <td>1.409490</td>\n",
       "      <td>0.580000</td>\n",
       "    </tr>\n",
       "  </tbody>\n",
       "</table><p>"
      ],
      "text/plain": [
       "<IPython.core.display.HTML object>"
      ]
     },
     "metadata": {},
     "output_type": "display_data"
    },
    {
     "data": {
      "text/html": [
       "\n",
       "    <div>\n",
       "      \n",
       "      <progress value='63' max='63' style='width:300px; height:20px; vertical-align: middle;'></progress>\n",
       "      [63/63 00:06]\n",
       "    </div>\n",
       "    "
      ],
      "text/plain": [
       "<IPython.core.display.HTML object>"
      ]
     },
     "metadata": {},
     "output_type": "display_data"
    },
    {
     "data": {
      "text/plain": [
       "{'eval_loss': 1.4679054021835327,\n",
       " 'eval_accuracy': 0.54,\n",
       " 'eval_runtime': 6.4993,\n",
       " 'eval_samples_per_second': 76.932,\n",
       " 'eval_steps_per_second': 9.693,\n",
       " 'epoch': 3.0}"
      ]
     },
     "execution_count": 20,
     "metadata": {},
     "output_type": "execute_result"
    }
   ],
   "source": [
    "small_trainer.train()\n",
    "small_trainer.evaluate(test_dataset)\n"
   ]
  },
  {
   "cell_type": "code",
   "execution_count": 23,
   "metadata": {},
   "outputs": [
    {
     "data": {
      "text/html": [
       "\n",
       "    <div>\n",
       "      \n",
       "      <progress value='3750' max='3750' style='width:300px; height:20px; vertical-align: middle;'></progress>\n",
       "      [3750/3750 25:36, Epoch 3/3]\n",
       "    </div>\n",
       "    <table border=\"1\" class=\"dataframe\">\n",
       "  <thead>\n",
       " <tr style=\"text-align: left;\">\n",
       "      <th>Epoch</th>\n",
       "      <th>Training Loss</th>\n",
       "      <th>Validation Loss</th>\n",
       "      <th>Accuracy</th>\n",
       "    </tr>\n",
       "  </thead>\n",
       "  <tbody>\n",
       "    <tr>\n",
       "      <td>1</td>\n",
       "      <td>0.881500</td>\n",
       "      <td>0.950022</td>\n",
       "      <td>0.583400</td>\n",
       "    </tr>\n",
       "    <tr>\n",
       "      <td>2</td>\n",
       "      <td>0.624600</td>\n",
       "      <td>1.025177</td>\n",
       "      <td>0.600000</td>\n",
       "    </tr>\n",
       "    <tr>\n",
       "      <td>3</td>\n",
       "      <td>0.377100</td>\n",
       "      <td>1.375666</td>\n",
       "      <td>0.603400</td>\n",
       "    </tr>\n",
       "  </tbody>\n",
       "</table><p>"
      ],
      "text/plain": [
       "<IPython.core.display.HTML object>"
      ]
     },
     "metadata": {},
     "output_type": "display_data"
    },
    {
     "data": {
      "text/html": [
       "\n",
       "    <div>\n",
       "      \n",
       "      <progress value='63' max='63' style='width:300px; height:20px; vertical-align: middle;'></progress>\n",
       "      [63/63 00:05]\n",
       "    </div>\n",
       "    "
      ],
      "text/plain": [
       "<IPython.core.display.HTML object>"
      ]
     },
     "metadata": {},
     "output_type": "display_data"
    }
   ],
   "source": [
    "full_trainer = Trainer(\n",
    "    model=model,\n",
    "    args=training_args,\n",
    "    train_dataset=full_train_dataset,\n",
    "    eval_dataset=full_eval_dataset,\n",
    "    compute_metrics=compute_metrics,\n",
    ")\n",
    "full_trainer.train()\n",
    "full_trainer.evaluate(test_dataset)\n",
    "\n",
    "full_trainer.save_model(model_dir)\n"
   ]
  },
  {
   "cell_type": "code",
   "execution_count": null,
   "metadata": {},
   "outputs": [],
   "source": []
  }
 ],
 "metadata": {
  "kernelspec": {
   "display_name": "Python 3 (ipykernel)",
   "language": "python",
   "name": "python3"
  }
 },
 "nbformat": 4,
 "nbformat_minor": 2
}
